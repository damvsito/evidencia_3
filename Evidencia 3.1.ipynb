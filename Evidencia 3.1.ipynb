{
  "metadata": {
    "language_info": {
      "codemirror_mode": {
        "name": "python",
        "version": 3
      },
      "file_extension": ".py",
      "mimetype": "text/x-python",
      "name": "python",
      "nbconvert_exporter": "python",
      "pygments_lexer": "ipython3",
      "version": "3.8"
    },
    "kernelspec": {
      "name": "python",
      "display_name": "Python (Pyodide)",
      "language": "python"
    }
  },
  "nbformat_minor": 4,
  "nbformat": 4,
  "cells": [
    {
      "cell_type": "code",
      "source": "import pickle\n\n# Definir una clase simple para representar un objeto\nclass MiObjeto:\n    def __init__(self, nombre, edad):\n        self.nombre = nombre\n        self.edad = edad\n\n# Función para serializar y almacenar el objeto en un archivo binario\ndef serializar_objeto(objeto, nombre_archivo):\n    with open(nombre_archivo, 'wb') as archivo:\n        pickle.dump(objeto, archivo)\n    print(f\"Objeto serializado y almacenado en {nombre_archivo}\")\n\n# Función para cargar y deserializar el objeto desde el archivo binario\ndef deserializar_objeto(nombre_archivo):\n    with open(nombre_archivo, 'rb') as archivo:\n        objeto_recuperado = pickle.load(archivo)\n    return objeto_recuperado\n\n# Crear un objeto\nmi_objeto = MiObjeto(nombre=\"Juan\", edad=25)\n\n# Serializar y almacenar el objeto en un archivo pickle\nnombre_archivo_pickle = \"mi_objeto.pickle\"\nserializar_objeto(mi_objeto, nombre_archivo_pickle)\n\n# Deserializar y recuperar el objeto desde el archivo pickle\nobjeto_recuperado = deserializar_objeto(nombre_archivo_pickle)\n\n# Mostrar el objeto original y el objeto recuperado\nprint(\"\\nObjeto original:\")\nprint(f\"Nombre: {mi_objeto.nombre}, Edad: {mi_objeto.edad}\")\n\nprint(\"\\nObjeto recuperado:\")\nprint(f\"Nombre: {objeto_recuperado.nombre}, Edad: {objeto_recuperado.edad}\")",
      "metadata": {
        "trusted": true
      },
      "execution_count": null,
      "outputs": []
    },
    {
      "cell_type": "code",
      "source": "",
      "metadata": {},
      "execution_count": null,
      "outputs": []
    }
  ]
}